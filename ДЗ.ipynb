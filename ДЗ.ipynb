{
  "nbformat": 4,
  "nbformat_minor": 0,
  "metadata": {
    "colab": {
      "provenance": [],
      "include_colab_link": true
    },
    "kernelspec": {
      "name": "python3",
      "display_name": "Python 3"
    },
    "language_info": {
      "name": "python"
    }
  },
  "cells": [
    {
      "cell_type": "markdown",
      "metadata": {
        "id": "view-in-github",
        "colab_type": "text"
      },
      "source": [
        "<a href=\"https://colab.research.google.com/github/Kirya-n/Classes_on_ProductStar/blob/main/%D0%94%D0%97.ipynb\" target=\"_parent\"><img src=\"https://colab.research.google.com/assets/colab-badge.svg\" alt=\"Open In Colab\"/></a>"
      ]
    },
    {
      "cell_type": "code",
      "execution_count": null,
      "metadata": {
        "id": "ag8fzyVbFNPm"
      },
      "outputs": [],
      "source": [
        "# Для тех, кто не знаком с Google Colab откройте и прочитайте инструкции в соседней вкладке\n",
        "# https://colab.research.google.com/?hl=ru\n",
        "# Для запуска каждой ячейки нажмите на стрелку запуска слева\n",
        "# Вам нужно заполнять пустые ячейки и потом вызывать ячейку с тестом,\n",
        "# если вы сделали правильно, то будет написано \"поздравляем тест пройден\"\n",
        "# необходимо пройти все тесты на данной страницы (выполнить все ячейки с тестами)"
      ]
    },
    {
      "cell_type": "code",
      "source": [
        "# 1) в ячейке ниже создайте class Animal и внутри напишите ключевое слово pass (это будет пустой класс)"
      ],
      "metadata": {
        "id": "YXoyxFrHFb-C"
      },
      "execution_count": null,
      "outputs": []
    },
    {
      "cell_type": "code",
      "source": [
        "class Animal:\n",
        "    pass"
      ],
      "metadata": {
        "id": "GKa4Pr6-GHji"
      },
      "execution_count": 1,
      "outputs": []
    },
    {
      "cell_type": "code",
      "source": [
        "# запустите этот тест после запуска ячейки выше после создания класса Animal\n",
        "try:\n",
        "  Animal()\n",
        "  print(\"Отлично, вы справились с заданием!\")\n",
        "except Exception as e:\n",
        "  print(\"Вы неправильно решили задание, попробуйте разобраться с ощибкой ниже и попробуйте запустить ячейки еще раз:\")\n",
        "  print(e)"
      ],
      "metadata": {
        "id": "BkOF8zc1GH8n",
        "outputId": "01492d9d-b13d-407c-e572-dec1213e40f8",
        "colab": {
          "base_uri": "https://localhost:8080/"
        }
      },
      "execution_count": 2,
      "outputs": [
        {
          "output_type": "stream",
          "name": "stdout",
          "text": [
            "Отлично, вы справились с заданием!\n"
          ]
        }
      ]
    },
    {
      "cell_type": "code",
      "source": [
        "# 2) Создайте и унаследуйте class Cat от Animal для этого класс Animal нужно указать в круглых скобках после имени класса потомка\n",
        "# внутри создайте метод __init__ который принимает на вход имя кота и сохраняет его в self.name = name"
      ],
      "metadata": {
        "id": "XC1Uu4d7GpAh"
      },
      "execution_count": null,
      "outputs": []
    },
    {
      "cell_type": "code",
      "source": [
        "class Cat(Animal):\n",
        "\n",
        "    def __init__(self, name):\n",
        "        self.name = name"
      ],
      "metadata": {
        "id": "WHbjkCPCG6GT"
      },
      "execution_count": 3,
      "outputs": []
    },
    {
      "cell_type": "code",
      "source": [
        "# запустите этот тест после запуска ячейки выше после создания класса Cat\n",
        "try:\n",
        "  print(Cat(\"барсик\").name)\n",
        "  print(\"Отлично, вы справились с заданием!\")\n",
        "except Exception as e:\n",
        "  print(\"Вы неправильно решили задание, попробуйте разобраться с ощибкой ниже и попробуйте запустить ячейки еще раз:\")\n",
        "  print(e)"
      ],
      "metadata": {
        "colab": {
          "base_uri": "https://localhost:8080/"
        },
        "id": "8hzr0ZlpG64l",
        "outputId": "5422ffed-ea15-479f-a07e-a5493f4445f4"
      },
      "execution_count": 4,
      "outputs": [
        {
          "output_type": "stream",
          "name": "stdout",
          "text": [
            "барсик\n",
            "Отлично, вы справились с заданием!\n"
          ]
        }
      ]
    },
    {
      "cell_type": "code",
      "source": [
        "# 2) Создайте и унаследуйте class Dog от Animal для этого класс Animal нужно указать в круглых скобках после имени класса потомка\n",
        "# внутри создайте метод __init__ который принимает на вход имя собаки и сохраняет его в self.name = name\n",
        "# а также добавьте метод def bark(self), в котором нужно вызвать функцию print(\"Я лаю! Гав-гав! меня зовут: \", self.name)"
      ],
      "metadata": {
        "id": "IabAhWkGG9X1"
      },
      "execution_count": null,
      "outputs": []
    },
    {
      "cell_type": "code",
      "source": [
        "class Dog(Animal):\n",
        "\n",
        "    def __init__(self, name):\n",
        "       self.name = name\n",
        "\n",
        "    def bark(self):\n",
        "        print('Я лаю! Гав-гав! меня зовут: ', self.name)\n"
      ],
      "metadata": {
        "id": "zUUCaFNUHW-M"
      },
      "execution_count": 5,
      "outputs": []
    },
    {
      "cell_type": "code",
      "source": [
        "try:\n",
        "  Dog(\"тузик\").bark()\n",
        "  print(\"Отлично, вы справились с заданием!\")\n",
        "except Exception as e:\n",
        "  print(\"Вы неправильно решили задание, попробуйте разобраться с ощибкой ниже и попробуйте запустить ячейки еще раз:\")\n",
        "  print(e)"
      ],
      "metadata": {
        "colab": {
          "base_uri": "https://localhost:8080/"
        },
        "id": "eoWChh4tHpsd",
        "outputId": "91a570f4-0615-4770-beda-ab4fb59d39c1"
      },
      "execution_count": 7,
      "outputs": [
        {
          "output_type": "stream",
          "name": "stdout",
          "text": [
            "Я лаю! Гав-гав! меня зовут:  тузик\n",
            "Отлично, вы справились с заданием!\n"
          ]
        }
      ]
    },
    {
      "cell_type": "code",
      "source": [],
      "metadata": {
        "id": "COfbMusgITx6"
      },
      "execution_count": null,
      "outputs": []
    }
  ]
}